{
 "cells": [
  {
   "cell_type": "code",
   "execution_count": 558,
   "metadata": {
    "collapsed": true
   },
   "outputs": [],
   "source": [
    "# Implementation of LDA using examples and papers from:\n",
    "# http://brooksandrew.github.io/simpleblog/articles/latent-dirichlet-allocation-under-the-hood/\n",
    "# Using the paper http://psiexp.ss.uci.edu/research/papers/SteyversGriffithsLSABookFormatted.pdf "
   ]
  },
  {
   "cell_type": "code",
   "execution_count": 559,
   "metadata": {
    "collapsed": true
   },
   "outputs": [],
   "source": [
    "# Set inline plot for jupyter ipynb\n",
    "% matplotlib inline \n",
    "\n",
    "# Import required modules\n",
    "# import spacy\n",
    "# nlp = spacy.load('en')\n",
    "# from sklearn.preprocessing import OneHotEncoder\n",
    "\n",
    "# keeping it simple, use only native python structures\n",
    "import itertools\n",
    "import numpy as np\n",
    "import matplotlib.pyplot as plt"
   ]
  },
  {
   "cell_type": "code",
   "execution_count": 560,
   "metadata": {
    "collapsed": true
   },
   "outputs": [],
   "source": [
    "# Setting parameters for sampling and LDA\n",
    "K = 2 # number of topics\n",
    "alpha = 1 # hyperparameter. single value indicates symmetric dirichlet prior. higher=>scatters document clusters\n",
    "beta = .001 # hyperparameter\n",
    "iterations = 1000 # iterations for collapsed gibbs sampling.  This should be a lot higher than 3 in practice."
   ]
  },
  {
   "cell_type": "code",
   "execution_count": 561,
   "metadata": {},
   "outputs": [],
   "source": [
    "# Generate a sample corpus\n",
    "raw_doc = ('eat turkey on turkey day holiday',\\\n",
    "           'i like to eat cake on holiday',\\\n",
    "           'turkey trot race on thanksgiving holiday',\\\n",
    "           'snail race the turtle',\\\n",
    "           'time travel space race',\\\n",
    "           'movie on thanksgiving',\\\n",
    "           'movie at air and space museum is cool movie',\\\n",
    "           'aspiring movie star')\n",
    "\n",
    "# [Self]-Add stopwords to see the effects LDA, removal should lead to reduction of noise\n",
    "stopwords = ['is','a','on','at','the','and','to','i']"
   ]
  },
  {
   "cell_type": "code",
   "execution_count": 562,
   "metadata": {},
   "outputs": [],
   "source": [
    "# Tokenize the documents into words\n",
    "# tok_doc = [nlp(unicode(doc),'utf-8') for doc in raw_doc]\n",
    "# can also deal with stopwords here using spacy if required\n",
    "\n",
    "# lets keep in simple and NOT use spacy for the time being (trouble with word_id)\n",
    "tokenize = [doc.split(' ') for doc in raw_doc]\n",
    "# lets remove stop words to remove noise that causes topic changes\n",
    "tok_doc = [filter(lambda x: x not in stopwords, doc) for doc in tokenize]\n",
    "num_doc = len(tok_doc) # number of documents"
   ]
  },
  {
   "cell_type": "code",
   "execution_count": 563,
   "metadata": {},
   "outputs": [],
   "source": [
    "# Create mapping of word <--> Id for fast retrival and hashing index for computation (e.g. {A:1, B:2})\n",
    "# create id_word and word_id to achieve this\n",
    "id_word = dict(enumerate(set(itertools.chain.from_iterable(tok_doc)))) #id:word\n",
    "word_id = {item[1]:item[0] for item in id_word.items()} #word:id\n",
    "num_word = len(word_id) # store the number of words\n",
    "\n",
    "# convert the tokens in the document to the token's id representation\n",
    "for i in range(num_doc):\n",
    "    tok_doc[i] = [word_id[word] for word in tok_doc[i]]"
   ]
  },
  {
   "cell_type": "code",
   "execution_count": 564,
   "metadata": {},
   "outputs": [],
   "source": [
    "# Create a structure to store the count of the topic-word frequency.\n",
    "# This is a matrix of K * W where the rows represent K number of topics and the cols W represent each word\n",
    "word_topic = np.zeros((K,num_word)) # structure to store the topic-word count, setting all to 0s initially\n",
    "\n",
    "# create another structure to store the word in each document and it's topic assignment\n",
    "topic_assign = []\n",
    "for i in range(num_doc):\n",
    "    topic_assign.append([0 for row in range(len(tok_doc[i]))]) # setting all the assignment to 0s initially"
   ]
  },
  {
   "cell_type": "code",
   "execution_count": 565,
   "metadata": {},
   "outputs": [],
   "source": [
    "# As a start, for each word in the documeny, randomly assign it a topic\n",
    "for d in range(num_doc): # loop for each document\n",
    "    for w in range(len(tok_doc[d])): # loop for each token word in the document\n",
    "        # random assign a topic from 1:K to the word\n",
    "        topic_assign[d][w] = np.random.choice(K,1)[0] # the equivalent of R's sample\n",
    "        topicId = topic_assign[d][w] # get topic id\n",
    "        wordId = tok_doc[d][w] # get the word id\n",
    "        # update the word-topic count\n",
    "        word_topic[topicId][wordId] = word_topic[topicId][wordId]+1"
   ]
  },
  {
   "cell_type": "code",
   "execution_count": 566,
   "metadata": {},
   "outputs": [],
   "source": [
    "# create a structure to store the document-topic frequency based on the count of the number of words belonging \n",
    "# to a topic in each docmument\n",
    "# This is a matrix of D * K where the rows represent D number of documents and K number of topics\n",
    "doc_topic = np.zeros((num_doc,K)) # store the number of words belonging to topic for each document, set to 0s initially\n",
    "for d in range(num_doc): # loop for each document\n",
    "    for t in range(K): # loop for each topic\n",
    "        # count the number of words in the document d assigned to topic t\n",
    "        doc_topic[d][t] = sum(1 for item in topic_assign[d] if item == t)"
   ]
  },
  {
   "cell_type": "code",
   "execution_count": 567,
   "metadata": {},
   "outputs": [
    {
     "name": "stdout",
     "output_type": "stream",
     "text": [
      "perfect convergence, 0 changes\n"
     ]
    },
    {
     "data": {
      "text/plain": [
       "[<matplotlib.lines.Line2D at 0x11b6accd0>]"
      ]
     },
     "execution_count": 567,
     "metadata": {},
     "output_type": "execute_result"
    },
    {
     "data": {
      "image/png": "[encoded data removed]",
      "text/plain": [
       "<matplotlib.figure.Figure at 0x11b5f1190>"
      ]
     },
     "metadata": {},
     "output_type": "display_data"
    }
   ],
   "source": [
    "# Using the paper http://psiexp.ss.uci.edu/research/papers/SteyversGriffithsLSABookFormatted.pdf\n",
    "# apply the gibbs sampling here to find theta and phi\n",
    "# [Self] - the term collapsed gibbs sampling is also used, need to check whats the different or its just the\n",
    "#          implmentation is called collasped gibbs sampling.\n",
    "\n",
    "# Magic of LDA starts!\n",
    "track_change = [] # [Self] - an array to keep track of the number of changes to topics in each run to see how it converge or diverge\n",
    "\n",
    "# run based on the number of specified iterations\n",
    "for i in range(iterations): # number of collasped gibbs sampling iteration to run\n",
    "    change_update = 0 # tracks the number of changing topic in the iteration\n",
    "    for d in range(num_doc): # loop for each document\n",
    "        for w in range(len(tok_doc[d])): # loop for each token word in the document\n",
    "            # obtain info on current sample word\n",
    "            curr_topic = topic_assign[d][w] # get the current topic assigned to the word w\n",
    "            wordId = tok_doc[d][w] # get the current word id for w\n",
    "\n",
    "            # based on gibbs sampling, we want to decrement the count to exclude the selected word w\n",
    "            word_topic[curr_topic][wordId] = word_topic[curr_topic][wordId]-1\n",
    "            doc_topic[d][curr_topic] = doc_topic[d][curr_topic]-1\n",
    "            \n",
    "            # to find the probability of the word given to each topic, p_z, we need to solve for the equations of phi and theta\n",
    "            # obtain the denominator\n",
    "            phi_denom = word_topic.sum(1) + (num_word*beta) # sum the number of words in each topic for all topic, + W*beta\n",
    "            theta_denom = doc_topic.sum(0) + (K*alpha) # sum the number of times a topic assign to doc for all doc, +K*alpha\n",
    "            # calculate the predictive distributions of phi and theta\n",
    "            phi_dist = (word_topic[:,wordId]+beta) / phi_denom # find the probability of wordId coming for each topic\n",
    "            theta_dist = (doc_topic[d]+alpha) / theta_denom # find the probability of document producing a certain topic\n",
    "            \n",
    "            # calculate the probability of the word given to each topic\n",
    "            p_z = phi_dist*theta_dist # the result here is a non-normalize probability\n",
    "            p_z_norm = p_z/p_z.sum() # normalise the reulz\n",
    "            \n",
    "            # re-sample a new topic for the word based on the new updated multinomial distribution\n",
    "            new_topic = np.random.choice(K,1,p=p_z_norm)[0]\n",
    "            # update back the counts based on the new topic assigned to the word\n",
    "            topic_assign[d][w] = new_topic\n",
    "            word_topic[new_topic][wordId] = word_topic[new_topic][wordId]+1\n",
    "            doc_topic[d][new_topic] = doc_topic[d][new_topic]+1\n",
    "            \n",
    "            # print any changes for observation\n",
    "            if(new_topic != curr_topic):\n",
    "                change_update = change_update + 1\n",
    "                # print \"document: \",d,\" token: \",w,\" from topic: \",curr_topic,'--> ',new_topic\n",
    "    \n",
    "    # [self]-check whether is possible to exit out of the loop, set to 0 update for now\n",
    "    track_change.append(change_update)\n",
    "    if(change_update == 0):\n",
    "        print \"perfect convergence, 0 changes\"\n",
    "        break\n",
    "    # [self] - future convergence exit criteria implementation\n",
    "\n",
    "# plot the number of changes in each iteration to see if convergence occurs\n",
    "plt.plot(track_change) # [self] - convergence does not occur, though sometimes able to get 0 change.\n",
    "            "
   ]
  },
  {
   "cell_type": "code",
   "execution_count": 568,
   "metadata": {},
   "outputs": [
    {
     "name": "stdout",
     "output_type": "stream",
     "text": [
      "[ 0.14285714  0.85714286]\n",
      "[ 0.16666667  0.83333333]\n",
      "[ 0.28571429  0.71428571]\n",
      "[ 0.4  0.6]\n",
      "[ 0.83333333  0.16666667]\n",
      "[ 0.5  0.5]\n",
      "[ 0.875  0.125]\n",
      "[ 0.8  0.2]\n",
      "TopicId: 0\n",
      "[['movie', 0.2497503121098627], ['race', 0.18732833957553058], ['space', 0.12490636704119849], ['museum', 0.062484394506866409], ['air', 0.062484394506866409], ['cool', 0.062484394506866409], ['star', 0.062484394506866409], ['time', 0.062484394506866409], ['aspiring', 0.062484394506866409], ['travel', 0.062484394506866409], ['turtle', 6.2421972534332083e-05], ['like', 6.2421972534332083e-05], ['snail', 6.2421972534332083e-05], ['trot', 6.2421972534332083e-05], ['eat', 6.2421972534332083e-05], ['thanksgiving', 6.2421972534332083e-05], ['day', 6.2421972534332083e-05], ['cake', 6.2421972534332083e-05], ['holiday', 6.2421972534332083e-05], ['turkey', 6.2421972534332083e-05]]\n",
      "TopicId: 0\n",
      "[['turkey', 0.18732833957553063], ['holiday', 0.18732833957553063], ['eat', 0.12490636704119852], ['thanksgiving', 0.12490636704119852], ['day', 0.062484394506866422], ['turtle', 0.062484394506866422], ['like', 0.062484394506866422], ['snail', 0.062484394506866422], ['trot', 0.062484394506866422], ['cake', 0.062484394506866422], ['aspiring', 6.2421972534332096e-05], ['race', 6.2421972534332096e-05], ['travel', 6.2421972534332096e-05], ['movie', 6.2421972534332096e-05], ['air', 6.2421972534332096e-05], ['space', 6.2421972534332096e-05], ['time', 6.2421972534332096e-05], ['star', 6.2421972534332096e-05], ['cool', 6.2421972534332096e-05], ['museum', 6.2421972534332096e-05]]\n"
     ]
    }
   ],
   "source": [
    "# Assuming theta and phi were solve above (either through some threshiold or iteration)\n",
    "# print the probability the document coming from K topic\n",
    "for doc in doc_topic:\n",
    "    print (doc+alpha)/(doc+alpha).sum(0) # using the generative model of theta\n",
    "\n",
    "# print the words in each of the topic according in decending order of probability\n",
    "topicId = 0\n",
    "for topic in word_topic:\n",
    "    result = (topic+beta)/(topic+beta).sum(0) # using the generative model of phi\n",
    "    sorted_idx = np.argsort(result) # sort the results (default ascending)\n",
    "    print \"TopicId:\",topicId\n",
    "    print [[id_word[idx],result[idx]] for idx in reversed(sorted_idx)] # print in descending order\n",
    "    "
   ]
  },
  {
   "cell_type": "code",
   "execution_count": null,
   "metadata": {
    "collapsed": true
   },
   "outputs": [],
   "source": []
  }
 ],
 "metadata": {
  "kernelspec": {
   "display_name": "Python 2",
   "language": "python",
   "name": "python2"
  },
  "language_info": {
   "codemirror_mode": {
    "name": "ipython",
    "version": 2
   },
   "file_extension": ".py",
   "mimetype": "text/x-python",
   "name": "python",
   "nbconvert_exporter": "python",
   "pygments_lexer": "ipython2",
   "version": "2.7.14"
  }
 },
 "nbformat": 4,
 "nbformat_minor": 2
}
